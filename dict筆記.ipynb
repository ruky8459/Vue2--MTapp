{
 "metadata": {
  "language_info": {
   "codemirror_mode": {
    "name": "ipython",
    "version": 3
   },
   "file_extension": ".py",
   "mimetype": "text/x-python",
   "name": "python",
   "nbconvert_exporter": "python",
   "pygments_lexer": "ipython3",
   "version": "3.8.1-final"
  },
  "orig_nbformat": 2,
  "kernelspec": {
   "name": "python3",
   "display_name": "Python 3",
   "language": "python"
  }
 },
 "nbformat": 4,
 "nbformat_minor": 2,
 "cells": [
  {
   "cell_type": "code",
   "execution_count": 37,
   "metadata": {},
   "outputs": [],
   "source": [
    "## dict = dictionary -> {key:value}\r\n",
    "dict_a = {'王小明':'很笨', 1:'也很笨', 2:[2,1,3], 3:{'王小明真的很笨嗎':'對'}}\r\n"
   ]
  },
  {
   "cell_type": "code",
   "execution_count": 38,
   "metadata": {},
   "outputs": [],
   "source": [
    "dataSource = {\n",
    "    'data':{\n",
    "        'data':{\n",
    "            'container_operatier_source':{\n",
    "                'key1':'value1_string',\n",
    "                'key2':['value1_in_list', 'value2_in_list']\n",
    "            },\n",
    "            'food_spu_tags':['a','b','c','d'],\n",
    "            'poi_info':[\n",
    "                {\n",
    "                    'name':'王西瓜',\n",
    "                    'phone':'0916712901',\n",
    "                    'address':'台北市中山區中正路一段5號8樓'\n",
    "                },\n",
    "                {\n",
    "                    'name':'潘金蓮',\n",
    "                    'phone':'0912212911',\n",
    "                    'address':'桃園市中山區中正路二段12號1樓'\n",
    "                }\n",
    "            ]\n",
    "        }\n",
    "    }\n",
    "}\n"
   ]
  },
  {
   "cell_type": "code",
   "execution_count": 22,
   "metadata": {},
   "outputs": [
    {
     "output_type": "execute_result",
     "data": {
      "text/plain": [
       "'潘金蓮'"
      ]
     },
     "metadata": {},
     "execution_count": 22
    }
   ],
   "source": [
    "dataSource['data']['data']['poi_info'][1]['name'] "
   ]
  },
  {
   "cell_type": "code",
   "execution_count": 45,
   "metadata": {},
   "outputs": [
    {
     "output_type": "stream",
     "name": "stdout",
     "text": [
      "你的姓氏是王\n你的名字是西瓜\n"
     ]
    }
   ],
   "source": [
    "fullname = '王西瓜'\n",
    "surnames =['王', '黃', '潘', '林', '簡']\n",
    "SurN = True\n",
    "for surname in surnames:\n",
    "    if surname in fullname:\n",
    "        SurN = False\n",
    "        print(f'你的姓氏是{surname}')\n",
    "        lastname = fullname.split(surname)[1]\n",
    "        #print(fullname.split(surname))\n",
    "        print(f'你的名字是{lastname}')\n",
    "if SurN:\n",
    "    print('未偵測到姓名')\n"
   ]
  },
  {
   "cell_type": "code",
   "execution_count": 40,
   "metadata": {},
   "outputs": [
    {
     "output_type": "stream",
     "name": "stdout",
     "text": [
      "第1個dict_a的key值:王小明, 對應的value是\"很笨\"\n第2個dict_a的key值:1, 對應的value是\"也很笨\"\n第3個dict_a的key值:2, 對應的value是\"[2, 1, 3]\"\n第4個dict_a的key值:3, 對應的value是\"{'王小明真的很笨嗎': '對'}\"\n"
     ]
    }
   ],
   "source": [
    "# for-each\n",
    "for index,key in enumerate(dict_a):\n",
    "    print(f'第{index+1}個dict_a的key值:{key}, 對應的value是\"{dict_a[key]}\"')"
   ]
  },
  {
   "cell_type": "code",
   "execution_count": null,
   "metadata": {},
   "outputs": [],
   "source": []
  },
  {
   "cell_type": "code",
   "execution_count": null,
   "metadata": {},
   "outputs": [],
   "source": []
  },
  {
   "cell_type": "code",
   "execution_count": null,
   "metadata": {},
   "outputs": [],
   "source": []
  }
 ]
}